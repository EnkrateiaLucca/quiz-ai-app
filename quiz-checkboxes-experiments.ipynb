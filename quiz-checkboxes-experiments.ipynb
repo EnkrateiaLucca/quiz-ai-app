{
 "cells": [
  {
   "cell_type": "code",
   "execution_count": 1,
   "metadata": {},
   "outputs": [],
   "source": [
    "from langchain.prompts import ChatPromptTemplate\n",
    "from langchain_openai import ChatOpenAI\n",
    "from langchain.schema import StrOutputParser\n",
    "from quiz_app import create_quiz_chain, create_the_quiz_prompt_template\n",
    "\n",
    "prompt_template = create_the_quiz_prompt_template()\n",
    "llm = ChatOpenAI(temperature=0.0)\n",
    "chain = create_quiz_chain(prompt_template,llm)"
   ]
  },
  {
   "cell_type": "code",
   "execution_count": 2,
   "metadata": {},
   "outputs": [
    {
     "data": {
      "text/plain": [
       "'- True-false:\\n    - Questions:\\n        1. Large language models are typically trained on vast amounts of text data.\\n        2. Large language models are not used in natural language processing tasks.\\n        3. Large language models have been criticized for their potential biases.\\n    - Answers:\\n        1. True\\n        2. False\\n        3. True'"
      ]
     },
     "execution_count": 2,
     "metadata": {},
     "output_type": "execute_result"
    }
   ],
   "source": [
    "quiz_type=\"True/False\"\n",
    "\n",
    "num_questions = 3\n",
    "\n",
    "context = \"Large language models\"\n",
    "\n",
    "quiz_response = chain.invoke({\"quiz_type\":quiz_type,\"num_questions\":num_questions,\"quiz_context\":context})\n",
    "quiz_response"
   ]
  },
  {
   "cell_type": "code",
   "execution_count": 4,
   "metadata": {},
   "outputs": [
    {
     "data": {
      "text/markdown": [
       "- True-false:\n",
       "    - Questions:\n",
       "        1. Large language models are typically trained on vast amounts of text data.\n",
       "        2. Large language models are not used in natural language processing tasks.\n",
       "        3. Large language models have been criticized for their potential biases.\n",
       "    - Answers:\n",
       "        1. True\n",
       "        2. False\n",
       "        3. True"
      ],
      "text/plain": [
       "<IPython.core.display.Markdown object>"
      ]
     },
     "execution_count": 4,
     "metadata": {},
     "output_type": "execute_result"
    }
   ],
   "source": [
    "from IPython.display import Markdown\n",
    "\n",
    "\n",
    "Markdown(quiz_response)"
   ]
  },
  {
   "cell_type": "code",
   "execution_count": 19,
   "metadata": {},
   "outputs": [],
   "source": [
    "from langchain.pydantic_v1 import BaseModel, Field\n",
    "from typing import List\n",
    "\n",
    "\n",
    "class QuizResponse(BaseModel):\n",
    "    quiz_text: str = Field(description=\"The quiz text\")\n",
    "    questions: List[str] = Field(description=\"The quiz questions\")\n",
    "    answers: List[str] = Field(description=\"The quiz answers\")\n",
    "\n"
   ]
  },
  {
   "cell_type": "code",
   "execution_count": 20,
   "metadata": {},
   "outputs": [],
   "source": [
    "llm = ChatOpenAI(temperature=0.0)"
   ]
  },
  {
   "cell_type": "code",
   "execution_count": 21,
   "metadata": {},
   "outputs": [],
   "source": [
    "prompt = create_the_quiz_prompt_template()\n",
    "\n",
    "chain = prompt | llm.with_structured_output(QuizResponse)"
   ]
  },
  {
   "cell_type": "code",
   "execution_count": 22,
   "metadata": {},
   "outputs": [],
   "source": [
    "output_quiz = chain.invoke({\"quiz_type\":\"True/False\",\"num_questions\":3,\"quiz_context\":\"Large language models\"})"
   ]
  },
  {
   "cell_type": "code",
   "execution_count": 23,
   "metadata": {},
   "outputs": [
    {
     "data": {
      "text/plain": [
       "['1. Large language models are designed to process and generate human-like text.',\n",
       " '2. Large language models are trained using unsupervised learning techniques.',\n",
       " '3. Large language models have a fixed size and cannot be scaled further.']"
      ]
     },
     "execution_count": 23,
     "metadata": {},
     "output_type": "execute_result"
    }
   ],
   "source": [
    "output_quiz.questions"
   ]
  },
  {
   "cell_type": "code",
   "execution_count": 24,
   "metadata": {},
   "outputs": [
    {
     "data": {
      "text/plain": [
       "['True', 'True', 'False']"
      ]
     },
     "execution_count": 24,
     "metadata": {},
     "output_type": "execute_result"
    }
   ],
   "source": [
    "output_quiz.answers"
   ]
  },
  {
   "cell_type": "code",
   "execution_count": null,
   "metadata": {},
   "outputs": [],
   "source": []
  },
  {
   "cell_type": "code",
   "execution_count": null,
   "metadata": {},
   "outputs": [],
   "source": []
  }
 ],
 "metadata": {
  "kernelspec": {
   "display_name": "automations",
   "language": "python",
   "name": "automations"
  },
  "language_info": {
   "codemirror_mode": {
    "name": "ipython",
    "version": 3
   },
   "file_extension": ".py",
   "mimetype": "text/x-python",
   "name": "python",
   "nbconvert_exporter": "python",
   "pygments_lexer": "ipython3",
   "version": "3.10.13"
  }
 },
 "nbformat": 4,
 "nbformat_minor": 2
}
